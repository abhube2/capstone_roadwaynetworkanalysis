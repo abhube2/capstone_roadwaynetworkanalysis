{
 "cells": [
  {
   "cell_type": "code",
   "execution_count": 1,
   "id": "40490b20-a59f-4066-8157-12fa3c5f3729",
   "metadata": {},
   "outputs": [],
   "source": [
    "import pandas as pd\n",
    "import folium\n",
    "\n",
    "friction_df = pd.read_excel('friction_data.xlsx')\n",
    "accidents_df = pd.read_excel('accidents.xlsx')"
   ]
  },
  {
   "cell_type": "code",
   "execution_count": 3,
   "id": "b1c6bdde-113c-436e-9e0d-fcfabc2f15d6",
   "metadata": {},
   "outputs": [],
   "source": [
    "accidents_df['Collision Date'] = pd.to_datetime(accidents_df['Collision Date'])"
   ]
  },
  {
   "cell_type": "code",
   "execution_count": 4,
   "id": "317ecdb3-a4b2-4575-be2d-088d4505a866",
   "metadata": {},
   "outputs": [
    {
     "name": "stdout",
     "output_type": "stream",
     "text": [
      "<class 'pandas.core.frame.DataFrame'>\n",
      "RangeIndex: 237 entries, 0 to 236\n",
      "Data columns (total 43 columns):\n",
      " #   Column                         Non-Null Count  Dtype         \n",
      "---  ------                         --------------  -----         \n",
      " 0   Master Record Number           237 non-null    int64         \n",
      " 1   Collision Date                 237 non-null    datetime64[ns]\n",
      " 2   Hour of Collision Timestamp    237 non-null    object        \n",
      " 3   County                         237 non-null    object        \n",
      " 4   City                           237 non-null    object        \n",
      " 5   Primary Factor                 227 non-null    object        \n",
      " 6   Manner Of Collision            237 non-null    object        \n",
      " 7   Secondary Crash Indic          237 non-null    object        \n",
      " 8   Property Damage Type           2 non-null      object        \n",
      " 9   Crash Severity Calc.           237 non-null    object        \n",
      " 10  Injury Nonfatal Number         237 non-null    int64         \n",
      " 11  Injury Fatal Number            237 non-null    int64         \n",
      " 12  Inj Incapacitating Number      237 non-null    int64         \n",
      " 13  Inj Nonincapacitating Number   237 non-null    int64         \n",
      " 14  Inj Possible Number            237 non-null    int64         \n",
      " 15  Inj Unknown Number             237 non-null    int64         \n",
      " 16  Deer Number                    237 non-null    int64         \n",
      " 17  Roadway House Number           0 non-null      float64       \n",
      " 18  Intersecting Road Mile Marker  64 non-null     float64       \n",
      " 19  Feet From Point                234 non-null    float64       \n",
      " 20  Direction From Point Code      24 non-null     object        \n",
      " 21  Roadway Class                  231 non-null    object        \n",
      " 22  Roadway Character              6 non-null      object        \n",
      " 23  Roadway Junction               237 non-null    object        \n",
      " 24  Intersecting Road Name         71 non-null     object        \n",
      " 25  Intersecting Road Number       0 non-null      float64       \n",
      " 26  Roadway Name                   231 non-null    object        \n",
      " 27  Roadway Suffix                 3 non-null      object        \n",
      " 28  Roadway Number                 26 non-null     object        \n",
      " 29  Roadway Interchange            42 non-null     object        \n",
      " 30  Roadway Ramp                   56 non-null     object        \n",
      " 31  Roadway Id                     236 non-null    object        \n",
      " 32  Surface Condition              237 non-null    object        \n",
      " 33  Median Type                    0 non-null      float64       \n",
      " 34  Light Condition                237 non-null    object        \n",
      " 35  Weather                        237 non-null    object        \n",
      " 36  Hit And Run Indic              6 non-null      object        \n",
      " 37  Construct Indic                237 non-null    object        \n",
      " 38  School Zone Indic              237 non-null    object        \n",
      " 39  In Corporate Limit Indic       237 non-null    object        \n",
      " 40  Unique Location Id             236 non-null    object        \n",
      " 41  Latitude Decimal               237 non-null    float64       \n",
      " 42  Longitude Decimal              237 non-null    float64       \n",
      "dtypes: datetime64[ns](1), float64(7), int64(8), object(27)\n",
      "memory usage: 79.7+ KB\n"
     ]
    }
   ],
   "source": [
    "accidents_df.info()"
   ]
  },
  {
   "cell_type": "code",
   "execution_count": null,
   "id": "db9b44dd-ff1d-41d5-90c7-44add25fdd55",
   "metadata": {},
   "outputs": [],
   "source": []
  }
 ],
 "metadata": {
  "kernelspec": {
   "display_name": "Python 3 (ipykernel)",
   "language": "python",
   "name": "python3"
  },
  "language_info": {
   "codemirror_mode": {
    "name": "ipython",
    "version": 3
   },
   "file_extension": ".py",
   "mimetype": "text/x-python",
   "name": "python",
   "nbconvert_exporter": "python",
   "pygments_lexer": "ipython3",
   "version": "3.12.7"
  }
 },
 "nbformat": 4,
 "nbformat_minor": 5
}
