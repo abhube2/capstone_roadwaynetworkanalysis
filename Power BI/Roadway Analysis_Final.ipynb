{
 "cells": [
  {
   "cell_type": "markdown",
   "id": "0d2cf1c5-1aaa-438f-a3aa-c8c19d115b8b",
   "metadata": {},
   "source": [
    "NOTEBOOK SETUP: IMPORT AND MAP TEST"
   ]
  },
  {
   "cell_type": "code",
   "execution_count": 60,
   "id": "a7c0439d-3716-47e4-81a1-39c2e58b3f6b",
   "metadata": {},
   "outputs": [
    {
     "data": {
      "text/html": [
       "<div style=\"width:100%;\"><div style=\"position:relative;width:100%;height:0;padding-bottom:60%;\"><span style=\"color:#565656\">Make this Notebook Trusted to load map: File -> Trust Notebook</span><iframe srcdoc=\"&lt;!DOCTYPE html&gt;\n",
       "&lt;html&gt;\n",
       "&lt;head&gt;\n",
       "    \n",
       "    &lt;meta http-equiv=&quot;content-type&quot; content=&quot;text/html; charset=UTF-8&quot; /&gt;\n",
       "    &lt;script src=&quot;https://cdn.jsdelivr.net/npm/leaflet@1.9.3/dist/leaflet.js&quot;&gt;&lt;/script&gt;\n",
       "    &lt;script src=&quot;https://code.jquery.com/jquery-3.7.1.min.js&quot;&gt;&lt;/script&gt;\n",
       "    &lt;script src=&quot;https://cdn.jsdelivr.net/npm/bootstrap@5.2.2/dist/js/bootstrap.bundle.min.js&quot;&gt;&lt;/script&gt;\n",
       "    &lt;script src=&quot;https://cdnjs.cloudflare.com/ajax/libs/Leaflet.awesome-markers/2.0.2/leaflet.awesome-markers.js&quot;&gt;&lt;/script&gt;\n",
       "    &lt;link rel=&quot;stylesheet&quot; href=&quot;https://cdn.jsdelivr.net/npm/leaflet@1.9.3/dist/leaflet.css&quot;/&gt;\n",
       "    &lt;link rel=&quot;stylesheet&quot; href=&quot;https://cdn.jsdelivr.net/npm/bootstrap@5.2.2/dist/css/bootstrap.min.css&quot;/&gt;\n",
       "    &lt;link rel=&quot;stylesheet&quot; href=&quot;https://netdna.bootstrapcdn.com/bootstrap/3.0.0/css/bootstrap-glyphicons.css&quot;/&gt;\n",
       "    &lt;link rel=&quot;stylesheet&quot; href=&quot;https://cdn.jsdelivr.net/npm/@fortawesome/fontawesome-free@6.2.0/css/all.min.css&quot;/&gt;\n",
       "    &lt;link rel=&quot;stylesheet&quot; href=&quot;https://cdnjs.cloudflare.com/ajax/libs/Leaflet.awesome-markers/2.0.2/leaflet.awesome-markers.css&quot;/&gt;\n",
       "    &lt;link rel=&quot;stylesheet&quot; href=&quot;https://cdn.jsdelivr.net/gh/python-visualization/folium/folium/templates/leaflet.awesome.rotate.min.css&quot;/&gt;\n",
       "    \n",
       "            &lt;meta name=&quot;viewport&quot; content=&quot;width=device-width,\n",
       "                initial-scale=1.0, maximum-scale=1.0, user-scalable=no&quot; /&gt;\n",
       "            &lt;style&gt;\n",
       "                #map_d6e6ee168262e62f7d804d932d15db32 {\n",
       "                    position: relative;\n",
       "                    width: 100.0%;\n",
       "                    height: 100.0%;\n",
       "                    left: 0.0%;\n",
       "                    top: 0.0%;\n",
       "                }\n",
       "                .leaflet-container { font-size: 1rem; }\n",
       "            &lt;/style&gt;\n",
       "\n",
       "            &lt;style&gt;html, body {\n",
       "                width: 100%;\n",
       "                height: 100%;\n",
       "                margin: 0;\n",
       "                padding: 0;\n",
       "            }\n",
       "            &lt;/style&gt;\n",
       "\n",
       "            &lt;style&gt;#map {\n",
       "                position:absolute;\n",
       "                top:0;\n",
       "                bottom:0;\n",
       "                right:0;\n",
       "                left:0;\n",
       "                }\n",
       "            &lt;/style&gt;\n",
       "\n",
       "            &lt;script&gt;\n",
       "                L_NO_TOUCH = false;\n",
       "                L_DISABLE_3D = false;\n",
       "            &lt;/script&gt;\n",
       "\n",
       "        \n",
       "&lt;/head&gt;\n",
       "&lt;body&gt;\n",
       "    \n",
       "    \n",
       "            &lt;div class=&quot;folium-map&quot; id=&quot;map_d6e6ee168262e62f7d804d932d15db32&quot; &gt;&lt;/div&gt;\n",
       "        \n",
       "&lt;/body&gt;\n",
       "&lt;script&gt;\n",
       "    \n",
       "    \n",
       "            var map_d6e6ee168262e62f7d804d932d15db32 = L.map(\n",
       "                &quot;map_d6e6ee168262e62f7d804d932d15db32&quot;,\n",
       "                {\n",
       "                    center: [38.339, -85.674],\n",
       "                    crs: L.CRS.EPSG3857,\n",
       "                    ...{\n",
       "  &quot;zoom&quot;: 11,\n",
       "  &quot;zoomControl&quot;: true,\n",
       "  &quot;preferCanvas&quot;: false,\n",
       "}\n",
       "\n",
       "                }\n",
       "            );\n",
       "\n",
       "            \n",
       "\n",
       "        \n",
       "    \n",
       "            var tile_layer_75c71bf9df85f9f4602126e4ab65c5e2 = L.tileLayer(\n",
       "                &quot;https://tile.openstreetmap.org/{z}/{x}/{y}.png&quot;,\n",
       "                {\n",
       "  &quot;minZoom&quot;: 0,\n",
       "  &quot;maxZoom&quot;: 19,\n",
       "  &quot;maxNativeZoom&quot;: 19,\n",
       "  &quot;noWrap&quot;: false,\n",
       "  &quot;attribution&quot;: &quot;\\u0026copy; \\u003ca href=\\&quot;https://www.openstreetmap.org/copyright\\&quot;\\u003eOpenStreetMap\\u003c/a\\u003e contributors&quot;,\n",
       "  &quot;subdomains&quot;: &quot;abc&quot;,\n",
       "  &quot;detectRetina&quot;: false,\n",
       "  &quot;tms&quot;: false,\n",
       "  &quot;opacity&quot;: 1,\n",
       "}\n",
       "\n",
       "            );\n",
       "        \n",
       "    \n",
       "            tile_layer_75c71bf9df85f9f4602126e4ab65c5e2.addTo(map_d6e6ee168262e62f7d804d932d15db32);\n",
       "        \n",
       "&lt;/script&gt;\n",
       "&lt;/html&gt;\" style=\"position:absolute;width:100%;height:100%;left:0;top:0;border:none !important;\" allowfullscreen webkitallowfullscreen mozallowfullscreen></iframe></div></div>"
      ],
      "text/plain": [
       "<folium.folium.Map at 0x240e5fb0e60>"
      ]
     },
     "execution_count": 60,
     "metadata": {},
     "output_type": "execute_result"
    }
   ],
   "source": [
    "import pandas as pd\n",
    "import folium\n",
    "\n",
    "EECP_map = folium.Map(location=[38.339, -85.674], zoom_start=11)\n",
    "EECP_map"
   ]
  },
  {
   "cell_type": "markdown",
   "id": "836bf9c3-07d8-440f-8f60-6de6ef79b5ad",
   "metadata": {},
   "source": [
    "PLOTTING CRASH DATA"
   ]
  },
  {
   "cell_type": "code",
   "execution_count": 61,
   "id": "d9be173e-52ea-449c-91ba-7bdce4e6c34b",
   "metadata": {},
   "outputs": [],
   "source": [
    "accidents_df = pd.read_excel('accidents.xlsx')"
   ]
  },
  {
   "cell_type": "code",
   "execution_count": 62,
   "id": "6d714761-106e-474f-a08f-ebeaa9fbeb5a",
   "metadata": {},
   "outputs": [
    {
     "name": "stdout",
     "output_type": "stream",
     "text": [
      "<class 'pandas.core.frame.DataFrame'>\n",
      "RangeIndex: 237 entries, 0 to 236\n",
      "Data columns (total 43 columns):\n",
      " #   Column                         Non-Null Count  Dtype         \n",
      "---  ------                         --------------  -----         \n",
      " 0   Master Record Number           237 non-null    int64         \n",
      " 1   Collision Date                 237 non-null    datetime64[ns]\n",
      " 2   Hour of Collision Timestamp    237 non-null    object        \n",
      " 3   County                         237 non-null    object        \n",
      " 4   City                           237 non-null    object        \n",
      " 5   Primary Factor                 227 non-null    object        \n",
      " 6   Manner Of Collision            237 non-null    object        \n",
      " 7   Secondary Crash Indic          237 non-null    object        \n",
      " 8   Property Damage Type           2 non-null      object        \n",
      " 9   Crash Severity Calc.           237 non-null    object        \n",
      " 10  Injury Nonfatal Number         237 non-null    int64         \n",
      " 11  Injury Fatal Number            237 non-null    int64         \n",
      " 12  Inj Incapacitating Number      237 non-null    int64         \n",
      " 13  Inj Nonincapacitating Number   237 non-null    int64         \n",
      " 14  Inj Possible Number            237 non-null    int64         \n",
      " 15  Inj Unknown Number             237 non-null    int64         \n",
      " 16  Deer Number                    237 non-null    int64         \n",
      " 17  Roadway House Number           0 non-null      float64       \n",
      " 18  Intersecting Road Mile Marker  64 non-null     float64       \n",
      " 19  Feet From Point                234 non-null    float64       \n",
      " 20  Direction From Point Code      24 non-null     object        \n",
      " 21  Roadway Class                  231 non-null    object        \n",
      " 22  Roadway Character              6 non-null      object        \n",
      " 23  Roadway Junction               237 non-null    object        \n",
      " 24  Intersecting Road Name         71 non-null     object        \n",
      " 25  Intersecting Road Number       0 non-null      float64       \n",
      " 26  Roadway Name                   231 non-null    object        \n",
      " 27  Roadway Suffix                 3 non-null      object        \n",
      " 28  Roadway Number                 26 non-null     object        \n",
      " 29  Roadway Interchange            42 non-null     object        \n",
      " 30  Roadway Ramp                   56 non-null     object        \n",
      " 31  Roadway Id                     236 non-null    object        \n",
      " 32  Surface Condition              237 non-null    object        \n",
      " 33  Median Type                    0 non-null      float64       \n",
      " 34  Light Condition                237 non-null    object        \n",
      " 35  Weather                        237 non-null    object        \n",
      " 36  Hit And Run Indic              6 non-null      object        \n",
      " 37  Construct Indic                237 non-null    object        \n",
      " 38  School Zone Indic              237 non-null    object        \n",
      " 39  In Corporate Limit Indic       237 non-null    object        \n",
      " 40  Unique Location Id             236 non-null    object        \n",
      " 41  Latitude Decimal               237 non-null    float64       \n",
      " 42  Longitude Decimal              237 non-null    float64       \n",
      "dtypes: datetime64[ns](1), float64(7), int64(8), object(27)\n",
      "memory usage: 79.7+ KB\n"
     ]
    }
   ],
   "source": [
    "accidents_df['Collision Date'] = pd.to_datetime(accidents_df['Collision Date'])\n",
    "accidents_df.info()"
   ]
  },
  {
   "cell_type": "code",
   "execution_count": 63,
   "id": "3a096954-9d94-4ecd-a134-b9603a278182",
   "metadata": {},
   "outputs": [
    {
     "data": {
      "text/plain": [
       "[2019, 2020, 2021, 2022, 2023, 2024, 2025]"
      ]
     },
     "execution_count": 63,
     "metadata": {},
     "output_type": "execute_result"
    }
   ],
   "source": [
    "crash_years = sorted(accidents_df['Collision Date'].dt.year.dropna().unique())\n",
    "crash_years"
   ]
  },
  {
   "cell_type": "code",
   "execution_count": 64,
   "id": "ab5b5069-3ebd-47a4-9a49-030edba855ae",
   "metadata": {},
   "outputs": [],
   "source": [
    "for yr in crash_years:\n",
    "    crash = folium.FeatureGroup(name=f\"Crashes {yr}\")\n",
    "\n",
    "    for _, row in accidents_df[accidents_df['Collision Date'].dt.year == yr].iterrows():\n",
    "        tooltip_html = (\n",
    "            f\"Collision Date: {row['Collision Date'].date()}<br>\"\n",
    "            f\"Collision Time: {row['Hour of Collision Timestamp']}<br>\"\n",
    "            f\"Primary Factor: {row['Primary Factor']}<br>\"\n",
    "            f\"Manner of Collision: {row['Manner Of Collision']}<br>\"\n",
    "            f\"Surface Condition: {row['Surface Condition']}<br>\"\n",
    "            f\"Weather: {row['Weather']}\"\n",
    "        )\n",
    "\n",
    "        folium.CircleMarker(\n",
    "            location=[row['Latitude Decimal'], row['Longitude Decimal']],\n",
    "            radius=5,\n",
    "            color='black',\n",
    "            fill=True,\n",
    "            fill_color='black',\n",
    "            fill_opacity=1,\n",
    "            tooltip=folium.Tooltip(tooltip_html, sticky=True, parse_html=True)\n",
    "        ).add_to(crash)\n",
    "\n",
    "    crash.add_to(EECP_map)"
   ]
  },
  {
   "cell_type": "markdown",
   "id": "57af8db8-82de-4416-96e5-452d92d14f73",
   "metadata": {},
   "source": [
    "PLOTTING FRICTION DATA"
   ]
  },
  {
   "cell_type": "code",
   "execution_count": 65,
   "id": "bf99c95b-32a2-414b-8e3c-6b8d2e1ac26e",
   "metadata": {},
   "outputs": [
    {
     "name": "stdout",
     "output_type": "stream",
     "text": [
      "<class 'pandas.core.frame.DataFrame'>\n",
      "RangeIndex: 9270 entries, 0 to 9269\n",
      "Data columns (total 8 columns):\n",
      " #   Column           Non-Null Count  Dtype         \n",
      "---  ------           --------------  -----         \n",
      " 0   type             9270 non-null   object        \n",
      " 1   route            9270 non-null   object        \n",
      " 2   direction        9224 non-null   object        \n",
      " 3   lane             9270 non-null   object        \n",
      " 4   date             9270 non-null   datetime64[ns]\n",
      " 5   friction_number  9270 non-null   float64       \n",
      " 6   latitude         9270 non-null   float64       \n",
      " 7   longitude        9270 non-null   float64       \n",
      "dtypes: datetime64[ns](1), float64(3), object(4)\n",
      "memory usage: 579.5+ KB\n"
     ]
    }
   ],
   "source": [
    "friction_df = pd.read_excel('friction_data.xlsx')\n",
    "friction_df.info()"
   ]
  },
  {
   "cell_type": "code",
   "execution_count": 66,
   "id": "5aec7b31-4b5f-4341-b0c4-3c5098b7f8f5",
   "metadata": {},
   "outputs": [],
   "source": [
    "friction_df['date'] = pd.to_datetime(friction_df['date'])"
   ]
  },
  {
   "cell_type": "code",
   "execution_count": 67,
   "id": "7087a5ae-9f0e-47c5-9a01-9587e21a42d7",
   "metadata": {},
   "outputs": [],
   "source": [
    "def colour(fn: float) -> str:\n",
    "    if fn > 35:\n",
    "        return 'green'\n",
    "    if fn >= 25:\n",
    "        return 'yellow'\n",
    "    return 'red'"
   ]
  },
  {
   "cell_type": "code",
   "execution_count": 75,
   "id": "5b2a1f6c-6140-419c-b3a5-50608600753b",
   "metadata": {},
   "outputs": [
    {
     "data": {
      "text/plain": [
       "'green'"
      ]
     },
     "execution_count": 75,
     "metadata": {},
     "output_type": "execute_result"
    }
   ],
   "source": [
    "colour(42)"
   ]
  },
  {
   "cell_type": "code",
   "execution_count": 72,
   "id": "c0566885-6421-4eca-b16a-874d7f0f4400",
   "metadata": {},
   "outputs": [],
   "source": [
    "friction_years = sorted(friction_df['date'].dt.year.dropna().unique())"
   ]
  },
  {
   "cell_type": "code",
   "execution_count": 73,
   "id": "0d879838-a5af-4667-a0f1-bcd5b62d4aa5",
   "metadata": {},
   "outputs": [
    {
     "data": {
      "text/plain": [
       "[2018, 2019, 2020, 2021, 2022, 2023, 2024]"
      ]
     },
     "execution_count": 73,
     "metadata": {},
     "output_type": "execute_result"
    }
   ],
   "source": [
    "friction_years"
   ]
  },
  {
   "cell_type": "code",
   "execution_count": 69,
   "id": "9b6d01b2-4ac9-4be9-a12c-180cd5117ab5",
   "metadata": {},
   "outputs": [],
   "source": [
    "for yr in friction_years:\n",
    "    fg = folium.FeatureGroup(name=f\"Friction {yr}\", show=False)\n",
    "\n",
    "    rows = friction_df[friction_df['date'].dt.year == yr]\n",
    "    for _, r in rows.iterrows():\n",
    "        tooltip_html = (\n",
    "            f\"Friction Number: {r['friction_number']}<br>\"\n",
    "            f\"Date: {r['date'].date()}<br>\"\n",
    "            f\"Lane: {r['lane']}\"\n",
    "        )\n",
    "        folium.CircleMarker(\n",
    "            location=[r['latitude'], r['longitude']],\n",
    "            radius=6,\n",
    "            color=colour(r['friction_number']),\n",
    "            fill=True,\n",
    "            fill_color=colour(r['friction_number']),\n",
    "            fill_opacity=0.9,\n",
    "            tooltip=folium.Tooltip(tooltip_html, sticky=True, parse_html=True)\n",
    "        ).add_to(fg)\n",
    "\n",
    "    fg.add_to(EECP_map)"
   ]
  },
  {
   "cell_type": "code",
   "execution_count": 70,
   "id": "d74ea0d7-abe4-4fba-a8c6-472f81f1c449",
   "metadata": {},
   "outputs": [
    {
     "data": {
      "text/plain": [
       "<folium.map.LayerControl at 0x24084ac0e00>"
      ]
     },
     "execution_count": 70,
     "metadata": {},
     "output_type": "execute_result"
    }
   ],
   "source": [
    "folium.LayerControl(collapsed=False).add_to(EECP_map)"
   ]
  },
  {
   "cell_type": "code",
   "execution_count": 82,
   "id": "655820b8-1cd6-473d-90ad-32c4cd23e0f6",
   "metadata": {},
   "outputs": [],
   "source": [
    "EECP_map.save('crash_friction_map.html')"
   ]
  }
 ],
 "metadata": {
  "kernelspec": {
   "display_name": "Python 3 (ipykernel)",
   "language": "python",
   "name": "python3"
  },
  "language_info": {
   "codemirror_mode": {
    "name": "ipython",
    "version": 3
   },
   "file_extension": ".py",
   "mimetype": "text/x-python",
   "name": "python",
   "nbconvert_exporter": "python",
   "pygments_lexer": "ipython3",
   "version": "3.12.7"
  }
 },
 "nbformat": 4,
 "nbformat_minor": 5
}
